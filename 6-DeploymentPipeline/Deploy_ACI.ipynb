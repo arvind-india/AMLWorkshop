{
 "cells": [
  {
   "cell_type": "code",
   "execution_count": 1,
   "metadata": {},
   "outputs": [
    {
     "name": "stdout",
     "output_type": "stream",
     "text": [
      "Azure ML:  0.1.59\n",
      "Found the config file in: /data/home/aml/notebooks/AML_Workshop/aml_config/config.json\n",
      "Interactive authentication successfully completed.\n"
     ]
    }
   ],
   "source": [
    "import numpy as np\n",
    "import azureml\n",
    "from azureml.core import Workspace, Run\n",
    "from azureml.core.model import Model\n",
    "\n",
    "print(\"Azure ML: \", azureml.core.VERSION)\n",
    "ws = Workspace.from_config()\n",
    "model = Model(ws, \"model_Linear\")"
   ]
  },
  {
   "cell_type": "code",
   "execution_count": 4,
   "metadata": {},
   "outputs": [
    {
     "name": "stdout",
     "output_type": "stream",
     "text": [
      "Creating image\n",
      "Image creation operation finished for image aci-linear-6:1, operation \"Succeeded\"\n",
      "Creating service\n",
      "Running....................................\n",
      "SucceededACI service creation operation finished, operation \"Succeeded\"\n",
      "Healthy\n",
      "http://168.61.19.128:80/score\n"
     ]
    }
   ],
   "source": [
    "from azureml.core.conda_dependencies import CondaDependencies \n",
    "myenv = CondaDependencies()\n",
    "myenv.add_conda_package(\"scikit-learn\")\n",
    "#myenv.add_conda_package(\"sklearn\")\n",
    "#myenv.add_conda_package(\"keras\")\n",
    "#myenv.add_conda_package(\"tensorflow\")\n",
    "with open(\"myenv.yml\",\"w\") as f:\n",
    "    f.write(myenv.serialize_to_string())\n",
    "\n",
    "    \n",
    "from azureml.core.image import ContainerImage\n",
    "image_config = ContainerImage.image_configuration(execution_script = \"Score.py\",\n",
    "                                                  runtime = \"python\",\n",
    "                                                  conda_file = \"myenv.yml\",\n",
    "                                                  dependencies = ['min_max_scaler.pickle','model_Linear.pickle'],\n",
    "                                                  description = \"\",\n",
    "                                                  tags = {\"type\": \"classification\"})\n",
    "\n",
    "\n",
    "from azureml.core.webservice import AciWebservice\n",
    "aciconfig = AciWebservice.deploy_configuration(cpu_cores = 1, \n",
    "                                               memory_gb = 2, \n",
    "                                               tags = {\"type\": \"classification\"},\n",
    "                                               description = '')\n",
    "\n",
    "from azureml.core.webservice import Webservice\n",
    "\n",
    "service = Webservice.deploy_from_model(deployment_config = aciconfig,\n",
    "                                       image_config = image_config,\n",
    "                                       models = [model], # this is the registered model object\n",
    "                                       name = 'aci-linear-6',\n",
    "                                       workspace = ws)\n",
    "service.wait_for_deployment(show_output = True)\n",
    "print(service.state)\n",
    "print(service.scoring_uri)"
   ]
  },
  {
   "cell_type": "code",
   "execution_count": 6,
   "metadata": {},
   "outputs": [
    {
     "name": "stdout",
     "output_type": "stream",
     "text": [
      "POST to url http://168.61.19.128:80/score\n",
      "prediction: \"1\"\n"
     ]
    }
   ],
   "source": [
    "import Score\n",
    "\n",
    "test_df = Score.getTestInput()  # [?, 26]\n",
    "test_df = test_df[test_df['id']==20] # ? filtered by id\n",
    "test_df = test_df.tail(5)\n",
    "\n",
    "test_json = test_df.to_json(orient='split')\n",
    "\n",
    "import requests\n",
    "import json\n",
    "\n",
    "headers = {'Content-Type':'application/json'}\n",
    "resp = requests.post(service.scoring_uri, test_json, headers=headers)\n",
    "\n",
    "print(\"POST to url\", service.scoring_uri)\n",
    "print(\"prediction:\", resp.text)\n"
   ]
  },
  {
   "cell_type": "code",
   "execution_count": null,
   "metadata": {},
   "outputs": [],
   "source": []
  }
 ],
 "metadata": {
  "kernelspec": {
   "display_name": "Python 3.6 - AzureML",
   "language": "python",
   "name": "python3-azureml"
  },
  "language_info": {
   "codemirror_mode": {
    "name": "ipython",
    "version": 3
   },
   "file_extension": ".py",
   "mimetype": "text/x-python",
   "name": "python",
   "nbconvert_exporter": "python",
   "pygments_lexer": "ipython3",
   "version": "3.6.6"
  }
 },
 "nbformat": 4,
 "nbformat_minor": 2
}
