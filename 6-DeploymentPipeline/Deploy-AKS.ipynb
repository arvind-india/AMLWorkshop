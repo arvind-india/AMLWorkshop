{
 "cells": [
  {
   "cell_type": "code",
   "execution_count": 1,
   "metadata": {},
   "outputs": [
    {
     "name": "stdout",
     "output_type": "stream",
     "text": [
      "Found the config file in: /data/home/jomit/notebooks/Flex Workshop/aml_config/config.json\n"
     ]
    }
   ],
   "source": [
    "from azureml.core import Workspace\n",
    "\n",
    "# Load existing workspace from the config file info.\n",
    "ws = Workspace.from_config()"
   ]
  },
  {
   "cell_type": "code",
   "execution_count": 2,
   "metadata": {},
   "outputs": [
    {
     "name": "stdout",
     "output_type": "stream",
     "text": [
      "Registering model model_Linear\n"
     ]
    }
   ],
   "source": [
    "from azureml.core.model import Model\n",
    "\n",
    "model = Model.register(model_path = \"model_Linear.pickle\",\n",
    "                        model_name = \"model_Linear\",\n",
    "                        tags = {\"data\": \"EngineData\", \"type\": \"classification\"},\n",
    "                        description = \"Predictive Maintenance\",\n",
    "                        workspace = ws)"
   ]
  },
  {
   "cell_type": "code",
   "execution_count": 3,
   "metadata": {},
   "outputs": [],
   "source": [
    "from azureml.core.conda_dependencies import CondaDependencies \n",
    "myenv = CondaDependencies()\n",
    "myenv.add_conda_package(\"scikit-learn\")\n",
    "#myenv.add_conda_package(\"sklearn\")\n",
    "#myenv.add_conda_package(\"keras\")\n",
    "#myenv.add_conda_package(\"tensorflow\")\n",
    "with open(\"myenv.yml\",\"w\") as f:\n",
    "    f.write(myenv.serialize_to_string())"
   ]
  },
  {
   "cell_type": "code",
   "execution_count": 4,
   "metadata": {},
   "outputs": [],
   "source": [
    "from azureml.core.image import ContainerImage\n",
    "image_config = ContainerImage.image_configuration(execution_script = \"Score.py\",\n",
    "                                                  runtime = \"python\",\n",
    "                                                  conda_file = \"myenv.yml\",\n",
    "                                                  dependencies = ['min_max_scaler.pickle','model_Linear.pickle'],\n",
    "                                                  description = \"\",\n",
    "                                                  tags = {\"type\": \"classification\"})"
   ]
  },
  {
   "cell_type": "code",
   "execution_count": 5,
   "metadata": {},
   "outputs": [
    {
     "name": "stdout",
     "output_type": "stream",
     "text": [
      "Creating image\n",
      "Running........................................................\n",
      "SucceededImage creation operation finished for image pdmimage1:1, operation \"Succeeded\"\n"
     ]
    }
   ],
   "source": [
    "image = ContainerImage.create(name = \"pdmimage1\",\n",
    "                                # this is the model object\n",
    "                                models = [model],\n",
    "                                image_config = image_config,\n",
    "                                workspace = ws)\n",
    "\n",
    "# Wait for the create process to complete\n",
    "image.wait_for_creation(show_output = True)"
   ]
  },
  {
   "cell_type": "code",
   "execution_count": 6,
   "metadata": {},
   "outputs": [
    {
     "name": "stdout",
     "output_type": "stream",
     "text": [
      "Creating......................................................................................................................................\n",
      "SucceededProvisioning operation finished, operation \"Succeeded\"\n",
      "Succeeded\n",
      "None\n"
     ]
    }
   ],
   "source": [
    "from azureml.core.compute import AksCompute, ComputeTarget\n",
    "\n",
    "# Use the default configuration (you can also provide parameters to customize this)\n",
    "prov_config = AksCompute.provisioning_configuration()\n",
    "\n",
    "aks_name = 'hackfest-aks' \n",
    "# Create the cluster\n",
    "aks_target = ComputeTarget.create(workspace = ws, \n",
    "                                    name = aks_name, \n",
    "                                    provisioning_configuration = prov_config)\n",
    "\n",
    "# Wait for the create process to complete\n",
    "aks_target.wait_for_completion(show_output = True)\n",
    "print(aks_target.provisioning_state)\n",
    "print(aks_target.provisioning_errors)"
   ]
  },
  {
   "cell_type": "code",
   "execution_count": 7,
   "metadata": {},
   "outputs": [
    {
     "name": "stdout",
     "output_type": "stream",
     "text": [
      "Creating service\n",
      "Running................................\n",
      "SucceededAKS service creation operation finished, operation \"Succeeded\"\n",
      "Healthy\n"
     ]
    }
   ],
   "source": [
    "from azureml.core.webservice import Webservice, AksWebservice\n",
    "\n",
    "# Set configuration and service name\n",
    "aks_config = AksWebservice.deploy_configuration()\n",
    "aks_service_name ='pdm-service-1'\n",
    "# Deploy from image\n",
    "aks_service = Webservice.deploy_from_image(workspace = ws, \n",
    "                                            name = aks_service_name,\n",
    "                                            image = image,\n",
    "                                            deployment_config = aks_config,\n",
    "                                            deployment_target = aks_target)\n",
    "# Wait for the deployment to complete\n",
    "aks_service.wait_for_deployment(show_output = True)\n",
    "print(aks_service.state)"
   ]
  },
  {
   "cell_type": "code",
   "execution_count": 8,
   "metadata": {},
   "outputs": [
    {
     "name": "stdout",
     "output_type": "stream",
     "text": [
      "1\n"
     ]
    }
   ],
   "source": [
    "import Score\n",
    "import json\n",
    "\n",
    "test_df = Score.getTestInput()  # [?, 26]\n",
    "test_df = test_df[test_df['id']==20] # ? filtered by id\n",
    "test_df = test_df.tail(5)\n",
    "\n",
    "test_json = test_df.to_json(orient='split')\n",
    "\n",
    "#test_sample = json.dumps({'data': [\n",
    "#    [1,2,3,4,5,6,7,8,9,10], \n",
    "#    [10,9,8,7,6,5,4,3,2,1]\n",
    "#]})\n",
    "test_sample = bytes(test_json,encoding = 'utf8')\n",
    "\n",
    "prediction = aks_service.run(input_data = test_sample)\n",
    "print(prediction)"
   ]
  },
  {
   "cell_type": "code",
   "execution_count": null,
   "metadata": {},
   "outputs": [],
   "source": []
  }
 ],
 "metadata": {
  "kernelspec": {
   "display_name": "Python 3.6 - AzureML",
   "language": "python",
   "name": "python3-azureml"
  },
  "language_info": {
   "codemirror_mode": {
    "name": "ipython",
    "version": 3
   },
   "file_extension": ".py",
   "mimetype": "text/x-python",
   "name": "python",
   "nbconvert_exporter": "python",
   "pygments_lexer": "ipython3",
   "version": "3.6.6"
  }
 },
 "nbformat": 4,
 "nbformat_minor": 2
}
